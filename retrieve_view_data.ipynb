{
 "cells": [
  {
   "cell_type": "code",
   "execution_count": 1,
   "metadata": {},
   "outputs": [],
   "source": [
    "import requests\n",
    "from pathlib import Path\n",
    "import pandas as pd\n",
    "import json\n",
    "import geopandas as gpd\n"
   ]
  },
  {
   "cell_type": "markdown",
   "metadata": {},
   "source": [
    "# Download Asylum Descision Dataset from UNHRC\n",
    "\n",
    "We request 15 years of data from 2008-2023"
   ]
  },
  {
   "cell_type": "code",
   "execution_count": 2,
   "metadata": {},
   "outputs": [],
   "source": [
    "# UNHCR base url for asylum seeker decisions of countries\n",
    "\n",
    "url = \"https://api.unhcr.org/population/v1/asylum-decisions/\"\n"
   ]
  },
  {
   "cell_type": "code",
   "execution_count": 3,
   "metadata": {},
   "outputs": [],
   "source": [
    "query_params = {\n",
    "    \"limit\": 1000000,\n",
    "    \"yearFrom\": 2008,\n",
    "    \"yearTo\": 2023,\n",
    "    \"coo_all\":  'TRUE',\n",
    "    \"coa_all\":  'TRUE',\n",
    "}\n",
    "\n",
    "response = requests.get(url=url, params=query_params)"
   ]
  },
  {
   "cell_type": "code",
   "execution_count": 5,
   "metadata": {},
   "outputs": [],
   "source": [
    "data = response.json()['items']\n"
   ]
  },
  {
   "cell_type": "code",
   "execution_count": 6,
   "metadata": {},
   "outputs": [],
   "source": [
    "\n",
    "dataset_2008_2023 = [\n",
    "    {'year': d['year'],\n",
    "    'coo_name': d['coo_name'],\n",
    "    'coo_iso': d['coo_iso'],\n",
    "    'coa_name': d['coa_name'],\n",
    "    'coa_iso': d['coa_iso'],\n",
    "    'dec_recognized': d['dec_recognized'],\n",
    "    'dec_other': d['dec_other'],\n",
    "    'dec_rejected': d['dec_rejected'],\n",
    "    'dec_closed': d['dec_closed'],\n",
    "    'dec_total': d['dec_total'],\n",
    "    } for d in data]"
   ]
  },
  {
   "cell_type": "code",
   "execution_count": 9,
   "metadata": {},
   "outputs": [
    {
     "data": {
      "text/html": [
       "<div>\n",
       "<style scoped>\n",
       "    .dataframe tbody tr th:only-of-type {\n",
       "        vertical-align: middle;\n",
       "    }\n",
       "\n",
       "    .dataframe tbody tr th {\n",
       "        vertical-align: top;\n",
       "    }\n",
       "\n",
       "    .dataframe thead th {\n",
       "        text-align: right;\n",
       "    }\n",
       "</style>\n",
       "<table border=\"1\" class=\"dataframe\">\n",
       "  <thead>\n",
       "    <tr style=\"text-align: right;\">\n",
       "      <th></th>\n",
       "      <th>year</th>\n",
       "      <th>coo_name</th>\n",
       "      <th>coo_iso</th>\n",
       "      <th>coa_name</th>\n",
       "      <th>coa_iso</th>\n",
       "      <th>dec_recognized</th>\n",
       "      <th>dec_other</th>\n",
       "      <th>dec_rejected</th>\n",
       "      <th>dec_closed</th>\n",
       "      <th>dec_total</th>\n",
       "    </tr>\n",
       "  </thead>\n",
       "  <tbody>\n",
       "    <tr>\n",
       "      <th>0</th>\n",
       "      <td>2008</td>\n",
       "      <td>Afghanistan</td>\n",
       "      <td>AFG</td>\n",
       "      <td>Australia</td>\n",
       "      <td>AUS</td>\n",
       "      <td>5</td>\n",
       "      <td>0</td>\n",
       "      <td>0</td>\n",
       "      <td>0</td>\n",
       "      <td>5</td>\n",
       "    </tr>\n",
       "    <tr>\n",
       "      <th>1</th>\n",
       "      <td>2008</td>\n",
       "      <td>Albania</td>\n",
       "      <td>ALB</td>\n",
       "      <td>Australia</td>\n",
       "      <td>AUS</td>\n",
       "      <td>5</td>\n",
       "      <td>0</td>\n",
       "      <td>5</td>\n",
       "      <td>0</td>\n",
       "      <td>10</td>\n",
       "    </tr>\n",
       "    <tr>\n",
       "      <th>2</th>\n",
       "      <td>2008</td>\n",
       "      <td>Egypt</td>\n",
       "      <td>EGY</td>\n",
       "      <td>Australia</td>\n",
       "      <td>AUS</td>\n",
       "      <td>10</td>\n",
       "      <td>0</td>\n",
       "      <td>17</td>\n",
       "      <td>0</td>\n",
       "      <td>27</td>\n",
       "    </tr>\n",
       "    <tr>\n",
       "      <th>3</th>\n",
       "      <td>2008</td>\n",
       "      <td>Bahrain</td>\n",
       "      <td>BHR</td>\n",
       "      <td>Australia</td>\n",
       "      <td>AUS</td>\n",
       "      <td>0</td>\n",
       "      <td>0</td>\n",
       "      <td>5</td>\n",
       "      <td>0</td>\n",
       "      <td>5</td>\n",
       "    </tr>\n",
       "    <tr>\n",
       "      <th>4</th>\n",
       "      <td>2008</td>\n",
       "      <td>Bangladesh</td>\n",
       "      <td>BGD</td>\n",
       "      <td>Australia</td>\n",
       "      <td>AUS</td>\n",
       "      <td>11</td>\n",
       "      <td>0</td>\n",
       "      <td>59</td>\n",
       "      <td>87</td>\n",
       "      <td>157</td>\n",
       "    </tr>\n",
       "  </tbody>\n",
       "</table>\n",
       "</div>"
      ],
      "text/plain": [
       "   year     coo_name coo_iso   coa_name coa_iso dec_recognized dec_other  \\\n",
       "0  2008  Afghanistan     AFG  Australia     AUS              5         0   \n",
       "1  2008      Albania     ALB  Australia     AUS              5         0   \n",
       "2  2008        Egypt     EGY  Australia     AUS             10         0   \n",
       "3  2008      Bahrain     BHR  Australia     AUS              0         0   \n",
       "4  2008   Bangladesh     BGD  Australia     AUS             11         0   \n",
       "\n",
       "  dec_rejected dec_closed dec_total  \n",
       "0            0          0         5  \n",
       "1            5          0        10  \n",
       "2           17          0        27  \n",
       "3            5          0         5  \n",
       "4           59         87       157  "
      ]
     },
     "execution_count": 9,
     "metadata": {},
     "output_type": "execute_result"
    }
   ],
   "source": [
    "df_asylum_decisions = pd.DataFrame(dataset_2008_2023)\n",
    "df_asylum_decisions.head()"
   ]
  },
  {
   "cell_type": "code",
   "execution_count": 12,
   "metadata": {},
   "outputs": [
    {
     "name": "stdout",
     "output_type": "stream",
     "text": [
      "<class 'pandas.core.frame.DataFrame'>\n",
      "RangeIndex: 73296 entries, 0 to 73295\n",
      "Data columns (total 10 columns):\n",
      " #   Column          Non-Null Count  Dtype \n",
      "---  ------          --------------  ----- \n",
      " 0   year            73296 non-null  int64 \n",
      " 1   coo_name        73296 non-null  object\n",
      " 2   coo_iso         73296 non-null  object\n",
      " 3   coa_name        73296 non-null  object\n",
      " 4   coa_iso         73296 non-null  object\n",
      " 5   dec_recognized  73296 non-null  int64 \n",
      " 6   dec_other       73296 non-null  int64 \n",
      " 7   dec_rejected    73296 non-null  int64 \n",
      " 8   dec_closed      73296 non-null  int64 \n",
      " 9   dec_total       73296 non-null  int64 \n",
      "dtypes: int64(6), object(4)\n",
      "memory usage: 5.6+ MB\n"
     ]
    }
   ],
   "source": [
    "columnsForEdit = ['year', 'dec_recognized', 'dec_other', 'dec_rejected', 'dec_closed', 'dec_total']\n",
    "df_asylum_decisions[columnsForEdit] = df_asylum_decisions[columnsForEdit].astype(int)\n",
    "df_asylum_decisions.info()"
   ]
  },
  {
   "cell_type": "code",
   "execution_count": 13,
   "metadata": {},
   "outputs": [],
   "source": [
    "# Save data to json format\n",
    "data_path = Path.cwd() / \"data\" / \"asylum_decisions_2008-2023.json\"\n",
    "df_asylum_decisions.to_json(data_path, orient='records', indent=4)\n"
   ]
  },
  {
   "cell_type": "markdown",
   "metadata": {},
   "source": [
    "# View Country Border GeoJSON Dataset\n",
    "\n",
    "Downloaded from [https://github.com/datasets/geo-countries](https://github.com/datasets/geo-countries) which is a GeoJSON converted dataset sourced from [Natural Earth](https://www.naturalearthdata.com/)."
   ]
  },
  {
   "cell_type": "code",
   "execution_count": 2,
   "metadata": {},
   "outputs": [],
   "source": [
    "country_file = data_path = Path.cwd() / \"data\" / \"countries.geojson\"\n",
    "countries = gpd.read_file(country_file)\n"
   ]
  },
  {
   "cell_type": "code",
   "execution_count": 3,
   "metadata": {},
   "outputs": [
    {
     "data": {
      "text/html": [
       "<div>\n",
       "<style scoped>\n",
       "    .dataframe tbody tr th:only-of-type {\n",
       "        vertical-align: middle;\n",
       "    }\n",
       "\n",
       "    .dataframe tbody tr th {\n",
       "        vertical-align: top;\n",
       "    }\n",
       "\n",
       "    .dataframe thead th {\n",
       "        text-align: right;\n",
       "    }\n",
       "</style>\n",
       "<table border=\"1\" class=\"dataframe\">\n",
       "  <thead>\n",
       "    <tr style=\"text-align: right;\">\n",
       "      <th></th>\n",
       "      <th>ADMIN</th>\n",
       "      <th>ISO_A3</th>\n",
       "      <th>ISO_A2</th>\n",
       "      <th>geometry</th>\n",
       "    </tr>\n",
       "  </thead>\n",
       "  <tbody>\n",
       "    <tr>\n",
       "      <th>0</th>\n",
       "      <td>Aruba</td>\n",
       "      <td>ABW</td>\n",
       "      <td>AW</td>\n",
       "      <td>MULTIPOLYGON (((-69.99694 12.57758, -69.93639 ...</td>\n",
       "    </tr>\n",
       "    <tr>\n",
       "      <th>1</th>\n",
       "      <td>Afghanistan</td>\n",
       "      <td>AFG</td>\n",
       "      <td>AF</td>\n",
       "      <td>MULTIPOLYGON (((71.04980 38.40866, 71.05714 38...</td>\n",
       "    </tr>\n",
       "    <tr>\n",
       "      <th>2</th>\n",
       "      <td>Angola</td>\n",
       "      <td>AGO</td>\n",
       "      <td>AO</td>\n",
       "      <td>MULTIPOLYGON (((11.73752 -16.69258, 11.73851 -...</td>\n",
       "    </tr>\n",
       "    <tr>\n",
       "      <th>3</th>\n",
       "      <td>Anguilla</td>\n",
       "      <td>AIA</td>\n",
       "      <td>AI</td>\n",
       "      <td>MULTIPOLYGON (((-63.03767 18.21296, -63.09952 ...</td>\n",
       "    </tr>\n",
       "    <tr>\n",
       "      <th>4</th>\n",
       "      <td>Albania</td>\n",
       "      <td>ALB</td>\n",
       "      <td>AL</td>\n",
       "      <td>MULTIPOLYGON (((19.74777 42.57890, 19.74601 42...</td>\n",
       "    </tr>\n",
       "    <tr>\n",
       "      <th>...</th>\n",
       "      <td>...</td>\n",
       "      <td>...</td>\n",
       "      <td>...</td>\n",
       "      <td>...</td>\n",
       "    </tr>\n",
       "    <tr>\n",
       "      <th>250</th>\n",
       "      <td>Samoa</td>\n",
       "      <td>WSM</td>\n",
       "      <td>WS</td>\n",
       "      <td>MULTIPOLYGON (((-171.57002 -13.93816, -171.564...</td>\n",
       "    </tr>\n",
       "    <tr>\n",
       "      <th>251</th>\n",
       "      <td>Yemen</td>\n",
       "      <td>YEM</td>\n",
       "      <td>YE</td>\n",
       "      <td>MULTIPOLYGON (((53.30824 12.11839, 53.31027 12...</td>\n",
       "    </tr>\n",
       "    <tr>\n",
       "      <th>252</th>\n",
       "      <td>South Africa</td>\n",
       "      <td>ZAF</td>\n",
       "      <td>ZA</td>\n",
       "      <td>MULTIPOLYGON (((37.86378 -46.94085, 37.83644 -...</td>\n",
       "    </tr>\n",
       "    <tr>\n",
       "      <th>253</th>\n",
       "      <td>Zambia</td>\n",
       "      <td>ZMB</td>\n",
       "      <td>ZM</td>\n",
       "      <td>MULTIPOLYGON (((31.11984 -8.61663, 31.14102 -8...</td>\n",
       "    </tr>\n",
       "    <tr>\n",
       "      <th>254</th>\n",
       "      <td>Zimbabwe</td>\n",
       "      <td>ZWE</td>\n",
       "      <td>ZW</td>\n",
       "      <td>MULTIPOLYGON (((30.01065 -15.64623, 30.05024 -...</td>\n",
       "    </tr>\n",
       "  </tbody>\n",
       "</table>\n",
       "<p>255 rows × 4 columns</p>\n",
       "</div>"
      ],
      "text/plain": [
       "            ADMIN ISO_A3 ISO_A2  \\\n",
       "0           Aruba    ABW     AW   \n",
       "1     Afghanistan    AFG     AF   \n",
       "2          Angola    AGO     AO   \n",
       "3        Anguilla    AIA     AI   \n",
       "4         Albania    ALB     AL   \n",
       "..            ...    ...    ...   \n",
       "250         Samoa    WSM     WS   \n",
       "251         Yemen    YEM     YE   \n",
       "252  South Africa    ZAF     ZA   \n",
       "253        Zambia    ZMB     ZM   \n",
       "254      Zimbabwe    ZWE     ZW   \n",
       "\n",
       "                                              geometry  \n",
       "0    MULTIPOLYGON (((-69.99694 12.57758, -69.93639 ...  \n",
       "1    MULTIPOLYGON (((71.04980 38.40866, 71.05714 38...  \n",
       "2    MULTIPOLYGON (((11.73752 -16.69258, 11.73851 -...  \n",
       "3    MULTIPOLYGON (((-63.03767 18.21296, -63.09952 ...  \n",
       "4    MULTIPOLYGON (((19.74777 42.57890, 19.74601 42...  \n",
       "..                                                 ...  \n",
       "250  MULTIPOLYGON (((-171.57002 -13.93816, -171.564...  \n",
       "251  MULTIPOLYGON (((53.30824 12.11839, 53.31027 12...  \n",
       "252  MULTIPOLYGON (((37.86378 -46.94085, 37.83644 -...  \n",
       "253  MULTIPOLYGON (((31.11984 -8.61663, 31.14102 -8...  \n",
       "254  MULTIPOLYGON (((30.01065 -15.64623, 30.05024 -...  \n",
       "\n",
       "[255 rows x 4 columns]"
      ]
     },
     "execution_count": 3,
     "metadata": {},
     "output_type": "execute_result"
    }
   ],
   "source": [
    "countries"
   ]
  },
  {
   "cell_type": "code",
   "execution_count": 4,
   "metadata": {},
   "outputs": [
    {
     "data": {
      "text/plain": [
       "<Axes: >"
      ]
     },
     "execution_count": 4,
     "metadata": {},
     "output_type": "execute_result"
    },
    {
     "data": {
      "image/png": "[encoded data removed]",
      "text/plain": [
       "<Figure size 640x480 with 1 Axes>"
      ]
     },
     "metadata": {},
     "output_type": "display_data"
    }
   ],
   "source": [
    "countries.plot()"
   ]
  },
  {
   "cell_type": "code",
   "execution_count": null,
   "metadata": {},
   "outputs": [],
   "source": []
  }
 ],
 "metadata": {
  "kernelspec": {
   "display_name": "py310",
   "language": "python",
   "name": "python3"
  },
  "language_info": {
   "codemirror_mode": {
    "name": "ipython",
    "version": 3
   },
   "file_extension": ".py",
   "mimetype": "text/x-python",
   "name": "python",
   "nbconvert_exporter": "python",
   "pygments_lexer": "ipython3",
   "version": "3.10.13"
  }
 },
 "nbformat": 4,
 "nbformat_minor": 2
}
